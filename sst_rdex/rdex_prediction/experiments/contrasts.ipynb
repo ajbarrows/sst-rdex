{
 "cells": [
  {
   "cell_type": "code",
   "execution_count": null,
   "id": "0",
   "metadata": {},
   "outputs": [],
   "source": [
    "import pandas as pd\n",
    "import numpy as np\n",
    "\n",
    "import matplotlib.pyplot as plt\n",
    "import seaborn as sns\n",
    "\n",
    "import neurotools.plotting as ntp\n",
    "\n",
    "from abcd_tools.utils.ConfigLoader import load_yaml\n",
    "params = load_yaml('../parameters.yaml')"
   ]
  },
  {
   "cell_type": "code",
   "execution_count": null,
   "id": "1",
   "metadata": {},
   "outputs": [],
   "source": [
    "summary = params['model_results_path'] + 'all_vertex_contrasts_ridge_summary.csv'\n",
    "res = params['model_results_path'] + 'all_vertex_contrasts_ridge_results.pkl'\n",
    "\n",
    "summary = pd.read_csv(summary)\n",
    "# res = pd.read_pickle(res)"
   ]
  },
  {
   "cell_type": "code",
   "execution_count": null,
   "id": "2",
   "metadata": {},
   "outputs": [],
   "source": [
    "summary"
   ]
  },
  {
   "cell_type": "code",
   "execution_count": null,
   "id": "3",
   "metadata": {},
   "outputs": [],
   "source": [
    "summary = (summary\n",
    "    .assign(\n",
    "        max_r2=lambda x: x['mean_scores_r2'] + x['std_scores_r2'],\n",
    "        min_r2=lambda x: x['mean_scores_r2'] - x['std_scores_r2']\n",
    "    )\n",
    "    .filter(['target', 'mean_scores_r2', 'max_r2', 'min_r2'])\n",
    "    .melt(id_vars='target')\n",
    "    .drop(columns='variable')\n",
    "    .rename(columns={'value': 'mean_scores_r2'})\n",
    ")"
   ]
  },
  {
   "cell_type": "code",
   "execution_count": null,
   "id": "4",
   "metadata": {},
   "outputs": [],
   "source": [
    "summary"
   ]
  },
  {
   "cell_type": "code",
   "execution_count": null,
   "id": "5",
   "metadata": {},
   "outputs": [],
   "source": [
    "process_map = params['process_map']\n",
    "target_map = params['target_map']\n",
    "color_map = params['color_map']\n",
    "\n",
    "def quick_effect_plot(df, ax):\n",
    "    colors = list(pd.unique(df['color']))\n",
    "    \n",
    "    sns.barplot(\n",
    "        data=df,\n",
    "        x='target',\n",
    "        y='mean_scores_r2',\n",
    "        hue='process',\n",
    "        palette=colors,\n",
    "        ax=ax\n",
    "    )\n",
    "\n",
    "    ax.set_ylabel(r\"Model $R^2$\")\n",
    "    ax.set_xlabel(\"\")\n",
    "\n",
    "    plt.xticks(rotation=30, ha='right')\n",
    "\n",
    "\n",
    "fig, ax = plt.subplots(figsize=(15, 8))\n",
    "\n",
    "(summary\n",
    "    .assign(\n",
    "        process=lambda x: x['target'].replace(process_map),\n",
    "        color=lambda x: x['process'].replace(color_map)\n",
    "        )\n",
    "    .replace(target_map)\n",
    "    .sort_values(['process', 'mean_scores_r2'], ascending=[True, False])\n",
    "    .pipe(quick_effect_plot, ax)\n",
    ")\n",
    "\n",
    "sns.set_context('paper', font_scale=1.75)\n",
    "plt.savefig(params['plot_output_path'] + \"ridge_contrasts_effectsize.pdf\", bbox_inches='tight')"
   ]
  },
  {
   "cell_type": "code",
   "execution_count": null,
   "id": "6",
   "metadata": {},
   "outputs": [],
   "source": [
    "fpath = params['model_results_path'] + \"all_vertex_contrasts_ridge_feature_importance.pkl\"\n",
    "fis, best_fis, avg_fis, haufe_avg, haufe_fis = pd.read_pickle(fpath)"
   ]
  },
  {
   "cell_type": "code",
   "execution_count": null,
   "id": "7",
   "metadata": {},
   "outputs": [],
   "source": [
    "haufe_avg"
   ]
  },
  {
   "cell_type": "code",
   "execution_count": null,
   "id": "8",
   "metadata": {},
   "outputs": [],
   "source": [
    "def broadcast_to_fsaverage(fis_agg: pd.Series, n_vertices=10242) -> pd.DataFrame:\n",
    "    \"\"\"Broadcast feature importance to fsaverage5.\n",
    "\n",
    "    Args:\n",
    "        fis_agg (pd.Series): Feature importance.\n",
    "        n_vertices (int, optional): Number of vertices. Defaults to 10242+1.\n",
    "\n",
    "    Returns:\n",
    "        pd.DataFrame: Broadcasted feature importance.\n",
    "    \"\"\"\n",
    "\n",
    "    def _split_hemisphere(df):\n",
    "        df = df.reset_index(names=[\"correct\", \"condition\", \"hemisphere\"])\n",
    "        lh = df[df[\"hemisphere\"] == \"lh\"].drop(columns=\"hemisphere\")\n",
    "        rh = df[df[\"hemisphere\"] == \"rh\"].drop(columns=\"hemisphere\")\n",
    "\n",
    "        return lh, rh\n",
    "\n",
    "    fis = fis_agg.copy()\n",
    "\n",
    "    fis.index = fis.index.str.split(\"_\", expand=True)\n",
    "    fis = fis.unstack(level=2)\n",
    "    # fis = fis.unstack()\n",
    "\n",
    "    # convert columns to integers and sort\n",
    "    fis.columns = fis.columns.astype(int)\n",
    "    fis = fis.reindex(sorted(fis.columns), axis=1)\n",
    "\n",
    "    # need to insert blank columns for missing vertices\n",
    "    vertex_names = [*range(1, n_vertices + 1)]\n",
    "    # vertex_names = [*range(0, n_vertices)]\n",
    "    null_df = pd.DataFrame(np.nan, columns=vertex_names, index=fis.index)\n",
    "    null_df = null_df.drop(columns=fis.columns)\n",
    "\n",
    "    df = fis.join(null_df, how=\"outer\")\n",
    "    lh, rh = _split_hemisphere(df)\n",
    "\n",
    "    return lh, rh\n",
    "\n",
    "def table_to_dict(df: pd.DataFrame, idx=['correct', 'condition']):\n",
    "    \"\"\"Take dataframe (hemi) where each row is a double-index condition\n",
    "    and return a dictionary of numpy arrays. \"\"\"\n",
    "\n",
    "    return (df\n",
    "        .assign(cond=lambda x: x[idx[0]] + '_' + x[idx[1]])\n",
    "        .drop(columns=idx)\n",
    "        .set_index('cond')\n",
    "        .groupby(level=0)\n",
    "        .apply(lambda x: x.values.flatten())\n",
    "        .to_dict()\n",
    "    )\n",
    "\n",
    "lh, rh = broadcast_to_fsaverage(haufe_avg['EEA'])"
   ]
  },
  {
   "cell_type": "code",
   "execution_count": null,
   "id": "9",
   "metadata": {},
   "outputs": [],
   "source": [
    "def make_masked_figure(lh, rh, conditions, target_map, title):\n",
    "\n",
    "    fig, axs = plt.subplots(ncols=len(conditions), figsize=(30, 4))\n",
    "\n",
    "    for ax, condition in zip(axs, conditions):\n",
    "\n",
    "        lh_plot = lh[condition]\n",
    "        rh_plot = rh[condition]\n",
    "\n",
    "        ax.set_title(target_map[condition])\n",
    "\n",
    "        ntp.plot({'lh': lh_plot, 'rh': rh_plot},\n",
    "            threshold=0,\n",
    "            cmap='seismic',\n",
    "            colorbar=False,\n",
    "            ax=ax\n",
    "        )\n",
    "    \n",
    "    plt.suptitle(title, size=20, x=0.15)\n",
    "\n",
    "def generate_plot(fis, target_map, title):\n",
    "\n",
    "    lh_tab, rh_tab = broadcast_to_fsaverage(fis)\n",
    "    lh_masked = table_to_dict(lh_tab)\n",
    "    rh_masked = table_to_dict(rh_tab)\n",
    "\n",
    "    conditions = lh_masked.keys()\n",
    "\n",
    "    make_masked_figure(lh_masked, rh_masked, conditions, target_map, title)\n",
    "\n",
    "target_map = {\n",
    "    \"correctstop_correctgo\": 'Correct Stop vs. Correct Go',\n",
    "    \"correctstop_incorrectgo\": \"Correct Stop vs. Incorrect Go\",\n",
    "    \"incorrectstop_correctstop\": \"Incorrect Stop vs. Correct Stop\",\n",
    "    \"incorrectstop_incorrectgo\": \"Incorrect Stop vs. Incorrect Go\"\n",
    "}\n",
    "\n",
    "generate_plot(haufe_avg['EEA'], target_map, \"EEA\")\n",
    "plt.savefig(params['plot_output_path'] + 'EEA_contrasts.png', dpi=300, bbox_inches='tight')\n"
   ]
  },
  {
   "cell_type": "code",
   "execution_count": null,
   "id": "10",
   "metadata": {},
   "outputs": [],
   "source": [
    "generate_plot(haufe_avg['tf'], target_map, r\"$p$TF\")\n",
    "plt.savefig(params['plot_output_path'] + 'tf_contrasts.png', dpi=300, bbox_inches='tight')"
   ]
  }
 ],
 "metadata": {
  "kernelspec": {
   "display_name": "Python 3",
   "language": "python",
   "name": "python3"
  },
  "language_info": {
   "codemirror_mode": {
    "name": "ipython",
    "version": 3
   },
   "file_extension": ".py",
   "mimetype": "text/x-python",
   "name": "python",
   "nbconvert_exporter": "python",
   "pygments_lexer": "ipython3",
   "version": "3.10.16"
  }
 },
 "nbformat": 4,
 "nbformat_minor": 5
}
