{
 "cells": [
  {
   "cell_type": "code",
   "execution_count": null,
   "metadata": {},
   "outputs": [],
   "source": [
    "import os\n",
    "import glob\n",
    "import pandas as pd\n",
    "import numpy as np\n",
    "\n",
    "import matplotlib.pyplot as plt\n",
    "import seaborn as sns\n",
    "\n",
    "from abcd_tools.utils.ConfigLoader import load_yaml"
   ]
  },
  {
   "cell_type": "code",
   "execution_count": null,
   "metadata": {},
   "outputs": [],
   "source": [
    "params = load_yaml(\"../parameters.yaml\")"
   ]
  },
  {
   "cell_type": "code",
   "execution_count": null,
   "metadata": {},
   "outputs": [],
   "source": [
    "def load_betas(betas_path: str) -> pd.DataFrame:\n",
    "    \"\"\"Load partitioned betas.\n",
    "\n",
    "    Args:\n",
    "        betas_path (str): Path to partitioned betas.\n",
    "\n",
    "    Returns:\n",
    "        pd.DataFrame: Partitioned betas.\n",
    "    \"\"\"\n",
    "    files = glob.glob(betas_path + \"*.parquet\")\n",
    "    df = pd.DataFrame()\n",
    "    for f in files:\n",
    "        tmp = pd.read_parquet(f)\n",
    "        df = pd.concat([df, tmp], axis=1)\n",
    "    return df\n",
    "\n",
    "def broadcast_to_fsaverage(fis_agg: pd.Series, n_vertices=10242 + 1) -> pd.DataFrame:\n",
    "    \"\"\"Broadcast feature importance to fsaverage5.\n",
    "\n",
    "    Args:\n",
    "        fis_agg (pd.Series): Feature importance.\n",
    "        n_vertices (int, optional): Number of vertices. Defaults to 10242+1.\n",
    "\n",
    "    Returns:\n",
    "        pd.DataFrame: Broadcasted feature importance.\n",
    "    \"\"\"\n",
    "\n",
    "    def _split_hemisphere(df):\n",
    "        df = df.reset_index(names=[\"correct\", \"condition\", \"hemisphere\"])\n",
    "        lh = df[df[\"hemisphere\"] == \"lh\"].drop(columns=\"hemisphere\")\n",
    "        rh = df[df[\"hemisphere\"] == \"rh\"].drop(columns=\"hemisphere\")\n",
    "        \n",
    "        return lh, rh\n",
    "\n",
    "    fis = fis_agg.copy()\n",
    "\n",
    "    fis.index = fis.index.str.split(\"_\", expand=True)\n",
    "    fis = fis.unstack(level=2)\n",
    "    fis.columns = pd.to_numeric(fis.columns).sort_values()\n",
    "\n",
    "    # need to insert blank columns for missing vertices\n",
    "    vertex_names = [*range(1, n_vertices)]\n",
    "    null_df = pd.DataFrame(np.nan, columns=vertex_names, index=fis.index)\n",
    "    null_df = null_df.drop(columns=fis.columns)\n",
    "\n",
    "    df = fis.join(null_df, how=\"outer\")\n",
    "    lh, rh = _split_hemisphere(df)\n",
    "\n",
    "    return lh, rh\n",
    "\n",
    "\n",
    "# betas_r5 = load_betas(params[\"processed_beta_dir_r5\"])\n",
    "# betas_r6 = load_betas(params[\"processed_beta_dir_r6\"])"
   ]
  },
  {
   "cell_type": "code",
   "execution_count": null,
   "metadata": {},
   "outputs": [],
   "source": [
    "betas_r6 = betas_r5.copy()"
   ]
  },
  {
   "cell_type": "code",
   "execution_count": null,
   "metadata": {},
   "outputs": [],
   "source": [
    "conditions = unique_regressors = set([c.rsplit(\"_\", 2)[0] for c in betas_r5.columns])\n",
    "conditions"
   ]
  },
  {
   "cell_type": "code",
   "execution_count": null,
   "metadata": {},
   "outputs": [],
   "source": [
    "correlations = betas_r5.corrwith(betas_r6, axis=0)\n",
    "correlations"
   ]
  },
  {
   "cell_type": "code",
   "execution_count": null,
   "metadata": {},
   "outputs": [],
   "source": [
    "def reshape_correlations(hemi: pd.DataFrame, name: str):\n",
    "    \n",
    "    hemi = hemi.melt(id_vars=[\"correct\", \"condition\"], \n",
    "                    var_name=\"vertex\", \n",
    "                    value_name=\"correlation\")\n",
    "    hemi['hemi'] = name\n",
    "\n",
    "    return hemi\n"
   ]
  },
  {
   "cell_type": "code",
   "execution_count": null,
   "metadata": {},
   "outputs": [],
   "source": [
    "lh, rh = broadcast_to_fsaverage(correlations)\n",
    "lh = reshape_correlations(lh, \"lh\")\n",
    "rh = reshape_correlations(rh, \"rh\")\n",
    "df = pd.concat([lh, rh])"
   ]
  },
  {
   "cell_type": "code",
   "execution_count": null,
   "metadata": {},
   "outputs": [],
   "source": [
    "(df\n",
    "    .drop(columns='vertex')\n",
    "    .groupby([\"condition\", \"hemi\"])\n",
    "    .agg([\"mean\", \"std\"])\n",
    ")"
   ]
  },
  {
   "cell_type": "code",
   "execution_count": null,
   "metadata": {},
   "outputs": [],
   "source": [
    "sns.FacetGrid(df, col=\"condition\", row='correct', hue=\"hemi\", sharex=False).map(sns.histplot, \"correlation\").add_legend()"
   ]
  }
 ],
 "metadata": {
  "kernelspec": {
   "display_name": "Python 3 (ipykernel)",
   "language": "python",
   "name": "python3"
  },
  "language_info": {
   "codemirror_mode": {
    "name": "ipython",
    "version": 3
   },
   "file_extension": ".py",
   "mimetype": "text/x-python",
   "name": "python",
   "nbconvert_exporter": "python",
   "pygments_lexer": "ipython3",
   "version": "3.10.16"
  }
 },
 "nbformat": 4,
 "nbformat_minor": 2
}
