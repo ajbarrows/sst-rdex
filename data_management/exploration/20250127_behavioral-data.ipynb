{
 "cells": [
  {
   "cell_type": "code",
   "execution_count": null,
   "metadata": {},
   "outputs": [],
   "source": [
    "import pandas as pd\n",
    "import os\n",
    "\n",
    "from abcd_tools.utils.io import load_tabular\n",
    "from abcd_tools.utils.ConfigLoader import load_yaml"
   ]
  },
  {
   "cell_type": "code",
   "execution_count": null,
   "metadata": {},
   "outputs": [],
   "source": [
    "raw_path = \"../../data/01_raw\"\n",
    "sst_behavioral_path = os.path.join(raw_path, \"tabular/core/imaging/mri_y_tfmr_sst_beh.csv\")"
   ]
  },
  {
   "cell_type": "code",
   "execution_count": null,
   "metadata": {},
   "outputs": [],
   "source": [
    "params = load_yaml(\"../parameters.yaml\")\n",
    "list(params)"
   ]
  },
  {
   "cell_type": "code",
   "execution_count": null,
   "metadata": {},
   "outputs": [],
   "source": [
    "def load_sst_behavioral(sst_behavioral_path: str, params: dict) -> pd.DataFrame:\n",
    "    \"\"\"Load the SST behavioral data\n",
    "\n",
    "    Args:\n",
    "        sst_behavioral_path (str): Path to NDA SST behavioral data\n",
    "        params (dict): Parameters loaded from YAML file\n",
    "\n",
    "    Returns:\n",
    "        pd.DataFrame: renamed and filtered SST behavioral data\n",
    "    \"\"\"\n",
    "    sst_behavioral = load_tabular(sst_behavioral_path,\n",
    "        cols=params['beh_rt_vars'],\n",
    "        timepoints=['baseline_year_1_arm_1'])\n",
    "    return sst_behavioral\n",
    "sst_behavioral = load_sst_behavioral(sst_behavioral_path, params)"
   ]
  },
  {
   "cell_type": "code",
   "execution_count": null,
   "metadata": {},
   "outputs": [],
   "source": [
    "rdex_map_path = os.path.join(raw_path, \"SST_MAPS_base_r3.csv\")\n",
    "pd.read_csv(rdex_map_path)\n",
    "\n",
    "def load_rdex_map(rdex_map_path: str, tpt='baseline_year_1_arm_1',\n",
    "    exclude_vars: list=['tf.natural', 'gf.natural']) -> pd.DataFrame:\n",
    "    \"\"\"Load RDEX MAP estimates\n",
    "\n",
    "    Args:\n",
    "        rdex_map_path (str): Path to exported RDEX MAP estimates\n",
    "        tpt (str, optional): Impose timepoint. Defaults to 'baseline_year_1_arm_1'.\n",
    "\n",
    "    Returns:\n",
    "        pd.DataFrame: RDEX MAP estimates with index set to src_subject_id and eventname\n",
    "    \"\"\"\n",
    "    rdex_map = pd.read_csv(rdex_map_path)\n",
    "    rdex_map = rdex_map.rename(columns={'subjectkey': 'src_subject_id'})\n",
    "    rdex_map = rdex_map.drop(columns=exclude_vars)\n",
    "    rdex_map.insert(1, 'eventname', tpt)\n",
    "\n",
    "    return rdex_map.set_index(['src_subject_id', 'eventname'])\n",
    "\n",
    "rdex_map = load_rdex_map(rdex_map_path)"
   ]
  },
  {
   "cell_type": "code",
   "execution_count": null,
   "metadata": {},
   "outputs": [],
   "source": [
    "rdex_map"
   ]
  },
  {
   "cell_type": "code",
   "execution_count": null,
   "metadata": {},
   "outputs": [],
   "source": [
    "def filter_behavioral(rdex_map: pd.DataFrame, \n",
    "    sst_behavioral: pd.DataFrame) -> pd.DataFrame:\n",
    "    \"\"\"Filter SST behavioral data to subjects with RDEX MAP estimates\n",
    "\n",
    "    Args:\n",
    "        rdex_map (pd.DataFrame): RDEX MAP estimates\n",
    "        sst_behavioral (pd.DataFrame): SST behavioral data\n",
    "\n",
    "    Returns:\n",
    "        pd.DataFrame: SST behavioral data for subjects with RDEX MAP estimates\n",
    "    \"\"\"\n",
    "\n",
    "    rdex_joined = rdex_map.join(sst_behavioral, how='inner')\n",
    "\n",
    "    print(f\"Subjects with RDEX MAP estimates: {len(rdex_map)}\")\n",
    "    print(f\"{len(rdex_map) - len(rdex_joined)} subjects missing {list(sst_behavioral.columns)}\")\n",
    "    print(f\"Subjects with complete behavioral data: {len(rdex_joined)}\")\n",
    "\n",
    "    return rdex_joined\n",
    "\n",
    "\n",
    "rdex_joined = filter_behavioral(rdex_map, sst_behavioral)  \n",
    "rdex_joined"
   ]
  },
  {
   "cell_type": "code",
   "execution_count": null,
   "metadata": {},
   "outputs": [],
   "source": [
    "def save_csv(df: pd.DataFrame, path: str):\n",
    "    df.to_csv(path)\n",
    "\n",
    "save_csv(rdex_joined, \"../../data/03_primary/rdex_joined.csv\")"
   ]
  },
  {
   "cell_type": "code",
   "execution_count": null,
   "metadata": {},
   "outputs": [],
   "source": [
    "load_tabular(\"../../data/03_primary/rdex_joined.csv\")"
   ]
  },
  {
   "cell_type": "code",
   "execution_count": null,
   "metadata": {},
   "outputs": [],
   "source": [
    "rdex_map.join(sst_behavioral, how='inner')"
   ]
  }
 ],
 "metadata": {
  "kernelspec": {
   "display_name": "sst-rdex",
   "language": "python",
   "name": "python3"
  },
  "language_info": {
   "codemirror_mode": {
    "name": "ipython",
    "version": 3
   },
   "file_extension": ".py",
   "mimetype": "text/x-python",
   "name": "python",
   "nbconvert_exporter": "python",
   "pygments_lexer": "ipython3",
   "version": "3.10.16"
  }
 },
 "nbformat": 4,
 "nbformat_minor": 2
}
