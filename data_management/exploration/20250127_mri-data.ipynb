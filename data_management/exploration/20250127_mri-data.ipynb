{
 "cells": [
  {
   "cell_type": "code",
   "execution_count": null,
   "metadata": {},
   "outputs": [],
   "source": [
    "import pandas as pd\n",
    "\n",
    "from abcd_tools.utils.io import load_tabular\n",
    "from abcd_tools.utils.ConfigLoader import load_yaml\n",
    "from abcd_tools.image.preprocess import compute_average_betas"
   ]
  },
  {
   "cell_type": "code",
   "execution_count": null,
   "metadata": {},
   "outputs": [],
   "source": [
    "params = load_yaml(\"../parameters.yaml\")\n"
   ]
  },
  {
   "cell_type": "code",
   "execution_count": null,
   "metadata": {},
   "outputs": [],
   "source": [
    "def load_degrees_of_freedom(r1_fpath: str, r2_fpath: str) -> pd.DataFrame:\n",
    "    \"\"\"Load censored frame information for run averaging.\n",
    "\n",
    "    Args:\n",
    "        r1_fpath (str): Filepath to run 1 info\n",
    "        r2_fpath (str): Filepath to run 2 info\n",
    "\n",
    "    Returns:\n",
    "        pd.DataFrame: DOFs for runs 1 and 2\n",
    "    \"\"\"\n",
    "    r1_dof = load_tabular(r1_fpath, cols=['tfmri_sstr1_beta_dof'])\n",
    "    r2_dof = load_tabular(r2_fpath, cols=['tfmri_sstr2_beta_dof'])\n",
    "\n",
    "    return pd.concat([r1_dof, r1_dof], axis=1)\n",
    "\n",
    "# dof = load_degrees_of_freedom(params['mri_r1_dof_path'], params['mri_r2_dof_path'])"
   ]
  },
  {
   "cell_type": "code",
   "execution_count": null,
   "metadata": {},
   "outputs": [],
   "source": [
    "vol_info_path = \"../../data/02_intermediate/vol_info.parquet\"\n",
    "\n",
    "sst_conditions = ['cs', 'cg', 'is', 'ig']\n",
    "runs = ['r01', 'r02']\n",
    "hemispheres = ['lh', 'rh']"
   ]
  },
  {
   "cell_type": "code",
   "execution_count": null,
   "metadata": {},
   "outputs": [],
   "source": [
    "def concatenate_hemispheres(lh: pd.DataFrame, rh: pd.DataFrame) -> pd.DataFrame:\n",
    "    \"\"\"Concatenate left and right hemisphere dataframes\n",
    "\n",
    "    Args:\n",
    "        lh (pd.DataFrame): Left hemisphere data\n",
    "        rh (pd.DataFrame): Right hemisphere data\n",
    "    \n",
    "    Returns:\n",
    "        pd.DataFrame: Concatenated data\n",
    "    \"\"\"\n",
    "    lh.columns = [c + '_lh' for c in lh.columns]\n",
    "    rh.columns = [c + '_rh' for c in rh.columns]\n",
    "    return pd.concat([lh, rh], axis=1)\n"
   ]
  },
  {
   "cell_type": "code",
   "execution_count": null,
   "metadata": {},
   "outputs": [],
   "source": [
    "beta_input_dir = \"../../data/02_intermediate/\"\n",
    "beta_output_dir = \"../../data/02_intermediate/avg_betas/\"\n",
    "\n",
    "def combine_betas(sst_conditions: list, hemispheres: list, beta_input_dir: str, beta_output_dir: str,\n",
    "    vol_info_path: str) -> None:\n",
    "    \"\"\"Combine betas for SST conditions\n",
    "\n",
    "    Args:\n",
    "        sst_conditions (list): SST conditions\n",
    "        hemispheres (list): Hemispheres\n",
    "        beta_input_dir (str): Directory containing beta data\n",
    "        beta_output_dir (str): Directory to save combined betas\n",
    "        vol_info_path (str): Path to volume information\n",
    "\n",
    "    Returns:\n",
    "        None\n",
    "    \"\"\"\n",
    "\n",
    "    vol_info = pd.read_parquet(vol_info_path)\n",
    "\n",
    "    for condition in sst_conditions:\n",
    "        betas = {}\n",
    "        for hemi in hemispheres:\n",
    "            run1_fpath = f\"{beta_input_dir}sst_{condition}_beta_r01_{hemi}.parquet\"\n",
    "            run2_fpath = f\"{beta_input_dir}sst_{condition}_beta_r02_{hemi}.parquet\"\n",
    "\n",
    "            run1 = pd.read_parquet(run1_fpath)\n",
    "            run2 = pd.read_parquet(run2_fpath)\n",
    "\n",
    "            avg_betas = compute_average_betas(run1, run2, vol_info, dof)\n",
    "\n",
    "            betas[hemi] = avg_betas\n",
    "\n",
    "        betas_df = concatenate_hemispheres(betas['lh'], betas['rh'])\n",
    "\n",
    "        betas_df.to_parquet(f\"{beta_output_dir}average_betas_{condition}.parquet\")\n"
   ]
  },
  {
   "cell_type": "code",
   "execution_count": null,
   "metadata": {},
   "outputs": [],
   "source": [
    "params"
   ]
  },
  {
   "cell_type": "code",
   "execution_count": null,
   "metadata": {},
   "outputs": [],
   "source": [
    "def load_mri_qc(mri_qc_path: str) -> pd.DataFrame:\n",
    "    mri_qc = load_tabular(mri_qc_path, cols=['imgincl_sst_include'])\n",
    "    return mri_qc[mri_qc['imgincl_sst_include'] == 1]\n",
    "    \n",
    "mri_qc_path = \"../../data/01_raw/tabular/core/imaging/mri_y_qc_incl.csv\"\n",
    "mri_qc = load_mri_qc(mri_qc_path)\n",
    "mri_qc\n"
   ]
  },
  {
   "cell_type": "code",
   "execution_count": null,
   "metadata": {},
   "outputs": [],
   "source": [
    "load_tabular(params['filtered_behavioral_path'])"
   ]
  },
  {
   "cell_type": "code",
   "execution_count": null,
   "metadata": {},
   "outputs": [],
   "source": [
    "def filter_avg_betas(mri_qc_df: pd.DataFrame, \n",
    "                    sst_conditions: list,\n",
    "                    filtered_behavioral_path: str,\n",
    "                    beta_output_dir: str,\n",
    "                    processed_beta_dir: str) -> pd.DataFrame:\n",
    "    \"\"\"Filter average betas based on QC data\n",
    "\n",
    "    Args:\n",
    "        mri_qc_df (pd.DataFrame): MRI QC data\n",
    "        sst_conditions (list): SST conditions\n",
    "        beta_output_dir (str): Path to average betas\n",
    "        processed_beta_dir (str): Path to processed betas\n",
    "\n",
    "    Returns:\n",
    "        None\n",
    "    \"\"\"\n",
    "\n",
    "    # load targets\n",
    "    filtered_behavioral = load_tabular(filtered_behavioral_path)\n",
    "    n_targets = filtered_behavioral.shape[0]\n",
    "    \n",
    "    for condition in sst_conditions:\n",
    "        avg_betas_fpath = f\"{beta_output_dir}average_betas_{condition}.parquet\"\n",
    "        avg_betas = pd.read_parquet(avg_betas_fpath)\n",
    "\n",
    "        # limit to available targets\n",
    "        avg_betas = avg_betas[avg_betas.index.isin(filtered_behavioral.index)]\n",
    "\n",
    "        print(f\"{avg_betas.shape[0]} of {n_targets} subjects had MRI data for {condition}\")\n",
    "\n",
    "        nrows_before = avg_betas.shape[0]\n",
    "        avg_betas = avg_betas[avg_betas.index.isin(mri_qc_df.index)]\n",
    "\n",
    "        diff = nrows_before - avg_betas.shape[0]\n",
    "\n",
    "        print(f\"{diff} failed MRI QC for {condition}\")\n",
    "\n",
    "        avg_betas.to_parquet(f\"{processed_beta_dir}processed_betas_{condition}.parquet\")\n",
    "\n",
    "        del(avg_betas)\n",
    "\n",
    "\n",
    "filter_avg_betas(mri_qc, sst_conditions,\n",
    "    params['filtered_behavioral_path'], params['beta_output_dir'], params['processed_beta_dir'])"
   ]
  },
  {
   "cell_type": "code",
   "execution_count": null,
   "metadata": {},
   "outputs": [],
   "source": [
    "motion_path = \"../../data/01_raw/abcd-sync/6.0/tabulated/img/mriqcrp203.csv\"\n",
    "scanner_path = \"../../data/01_raw/abcd-sync/6.0/tabulated/img/abcd_mri01.csv\"\n",
    "\n",
    "def load_mri_confounds(motion_path: str, scanner_path: str, timepoints: list) -> pd.DataFrame:\n",
    "    motion = load_tabular(motion_path, cols=['iqc_sst_all_mean_motion'], timepoints=timepoints)\n",
    "    scanner = load_tabular(scanner_path, cols = ['mri_info_deviceserialnumber'], timepoints=timepoints)\n",
    "\n",
    "    return pd.concat([motion, scanner], axis=1)\n",
    "    \n",
    "mri_confounds = pd.concat([motion, scanner], axis=1)\n"
   ]
  },
  {
   "cell_type": "code",
   "execution_count": null,
   "metadata": {},
   "outputs": [],
   "source": [
    "motion"
   ]
  },
  {
   "cell_type": "code",
   "execution_count": null,
   "metadata": {},
   "outputs": [],
   "source": []
  }
 ],
 "metadata": {
  "kernelspec": {
   "display_name": "sst-rdex",
   "language": "python",
   "name": "python3"
  },
  "language_info": {
   "codemirror_mode": {
    "name": "ipython",
    "version": 3
   },
   "file_extension": ".py",
   "mimetype": "text/x-python",
   "name": "python",
   "nbconvert_exporter": "python",
   "pygments_lexer": "ipython3",
   "version": "3.10.16"
  }
 },
 "nbformat": 4,
 "nbformat_minor": 2
}
