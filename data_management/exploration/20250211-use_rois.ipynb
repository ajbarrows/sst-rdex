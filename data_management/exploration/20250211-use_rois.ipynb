{
 "cells": [
  {
   "cell_type": "code",
   "execution_count": null,
   "metadata": {},
   "outputs": [],
   "source": [
    "import pandas as pd\n",
    "\n",
    "from abcd_tools.utils.io import load_tabular, apply_nda_names\n",
    "from abcd_tools.utils.ConfigLoader import load_yaml\n"
   ]
  },
  {
   "cell_type": "code",
   "execution_count": null,
   "metadata": {},
   "outputs": [],
   "source": [
    "params = load_yaml(\"../parameters.yaml\")"
   ]
  },
  {
   "cell_type": "code",
   "execution_count": null,
   "metadata": {},
   "outputs": [],
   "source": [
    "betas = params['processed_beta_dir_r6']\n",
    "cg = pd.read_parquet(betas + 'processed_betas_cs.parquet')\n",
    "cg"
   ]
  },
  {
   "cell_type": "code",
   "execution_count": null,
   "metadata": {},
   "outputs": [],
   "source": [
    "def strip_names(df: pd.DataFrame, names= list, \n",
    "                idx:list =['src_subject_id', 'eventname', 'condition'],\n",
    "                set_index=True,\n",
    "                reset_index=True) -> pd.DataFrame:\n",
    "    \"\"\"Remove strings from column names.\n",
    "\n",
    "    Args:\n",
    "        df (pd.DataFrame): Dataframe whose columns will be modified.\n",
    "        names (list): List of strings to remove from column names.\n",
    "        idx (list): Index columns. Defaults to ['src_subject_id', 'eventname', 'condition'].\n",
    "\n",
    "    Returns:\n",
    "        pd.DataFrame: Dataframe with  modified column names.\n",
    "    \"\"\"\n",
    "    if set_index:\n",
    "        df = df.set_index(idx)\n",
    "    columns = [c.replace(n, '') for n in names for c in df.columns if n in c]\n",
    "\n",
    "    if len(columns) == 0:\n",
    "        pass\n",
    "    else:\n",
    "        df.columns = columns\n",
    "\n",
    "    if reset_index:\n",
    "        df = df.reset_index()\n",
    "    return df\n",
    "\n",
    "def drop_cols(df: pd.DataFrame, drop_strings: list) -> pd.DataFrame:\n",
    "    \"\"\"Helper function to drop columns containing a given string.\n",
    "\n",
    "    Args:\n",
    "        df (pd.DataFrame): Dataframe to filter.\n",
    "        drop_strings (list): List of strings to drop.\n",
    "\n",
    "    Returns:\n",
    "        pd.DataFrame: Filtered dataframe.\n",
    "    \"\"\"\n",
    "    cols = [c for c in df.columns if not any([s in c for s in drop_strings])]\n",
    "    return df[cols]\n",
    "\n",
    "def recover_conditions(df1, df2, names1, names2, newname):\n",
    "    idx = ['src_subject_id', 'eventname']\n",
    "    df1 = strip_names(df1, names1, set_index=False).set_index(idx)\n",
    "    df2 = strip_names(df2, names2, set_index=False).set_index(idx)\n",
    "\n",
    "    df1, df2 = df1.align(df2, join='inner', axis=1)\n",
    "    df = df1 + df2\n",
    "\n",
    "    df = drop_cols(df, ['run1', 'run2'])\n",
    "    df.columns = [c.replace('all', 'all_' + newname) for c in df.columns]\n",
    "\n",
    "    return df"
   ]
  },
  {
   "cell_type": "code",
   "execution_count": null,
   "metadata": {},
   "outputs": [],
   "source": [
    " def load_contrasts(fpath, dict_path=\"../../data/01_raw/tabular/abcd_5-1_dictionary.csv\"):\n",
    "    contrasts = load_tabular(fpath)\n",
    "    contrasts = apply_nda_names(contrasts, dict_path)\n",
    "    return contrasts"
   ]
  },
  {
   "cell_type": "code",
   "execution_count": null,
   "metadata": {},
   "outputs": [],
   "source": [
    "sst_csvcg_names= ['correct.stop.vs.correct.go_']\n",
    "sst_cgvfx_names= ['correct.go.vs.fixation_']\n",
    "sst_isvcg_names= ['incorrect.stop.vs.correct.go_']\n",
    "sst_igvcg_names= ['incorrect.go.vs.correct.go_']"
   ]
  },
  {
   "cell_type": "code",
   "execution_count": null,
   "metadata": {},
   "outputs": [],
   "source": [
    "base_path = \"../../data/01_raw/tabular/core/imaging/\"\n",
    "\n",
    "\n",
    "\n",
    "csvcg_dst = load_contrasts(base_path + 'mri_y_tfmr_sst_csvcg_dst.csv')\n",
    "isvcg_dst = load_contrasts(base_path + 'mri_y_tfmr_sst_isvcg_dst.csv')\n",
    "igvcg_dst = load_contrasts(base_path + 'mri_y_tfmr_sst_igvcg_dst.csv')\n",
    "cgvfx_dst = load_contrasts(base_path + 'mri_y_tfmr_sst_cgvfx_dst.csv')\n"
   ]
  },
  {
   "cell_type": "code",
   "execution_count": null,
   "metadata": {},
   "outputs": [],
   "source": [
    "correct_stop = recover_conditions(csvcg_dst, cgvfx_dst, sst_csvcg_names, sst_cgvfx_names, 'correct_stop')\n",
    "incorrect_stop = recover_conditions(isvcg_dst, cgvfx_dst, sst_isvcg_names, sst_cgvfx_names, 'incorrect_stop')\n",
    "incorrect_go = recover_conditions(igvcg_dst, cgvfx_dst, sst_igvcg_names, sst_cgvfx_names, 'incorrect_go')"
   ]
  },
  {
   "cell_type": "code",
   "execution_count": null,
   "metadata": {},
   "outputs": [],
   "source": [
    "cgvfx_dst = drop_cols(cgvfx_dst, ['run1', 'run2'])\n",
    "cgvfx_dst.columns = [c.replace('all', 'all_' + 'correct_go') for c in cgvfx_dst.columns]\n",
    "cgvfx_dst"
   ]
  },
  {
   "cell_type": "code",
   "execution_count": null,
   "metadata": {},
   "outputs": [],
   "source": [
    "df = pd.concat([correct_stop, incorrect_stop, incorrect_go, cgvfx_dst], axis=1)\n",
    "df"
   ]
  },
  {
   "cell_type": "code",
   "execution_count": null,
   "metadata": {},
   "outputs": [],
   "source": [
    "def make_roi_dataset(params: dict) -> pd.DataFrame:\n",
    "    \"\"\"Create a dataset with ROI data.\n",
    "\n",
    "    Args:\n",
    "        params (dict): Dictionary with parameters.\n",
    "    \n",
    "    Returns:\n",
    "        pd.DataFrame: ROI dataset.\n",
    "    \"\"\"\n",
    "\n",
    "    csvcg_dst = load_contrasts(base_path + 'mri_y_tfmr_sst_csvcg_dst.csv')\n",
    "    isvcg_dst = load_contrasts(base_path + 'mri_y_tfmr_sst_isvcg_dst.csv')\n",
    "    igvcg_dst = load_contrasts(base_path + 'mri_y_tfmr_sst_igvcg_dst.csv')\n",
    "    cgvfx_dst = load_contrasts(base_path + 'mri_y_tfmr_sst_cgvfx_dst.csv')\n",
    "\n",
    "    sst_csvcg_names = params['sst_csvcg_names']\n",
    "    sst_cgvfx_names = params['sst_cgvfx_names']\n",
    "    sst_isvcg_names = params['sst_isvcg_names']\n",
    "    sst_igvcg_names = params['sst_igvcg_names']\n",
    "\n",
    "    correct_stop = recover_conditions(csvcg_dst, cgvfx_dst, sst_csvcg_names, sst_cgvfx_names, 'correct_stop')\n",
    "    incorrect_stop = recover_conditions(isvcg_dst, cgvfx_dst, sst_isvcg_names, sst_cgvfx_names, 'incorrect_stop')\n",
    "    incorrect_go = recover_conditions(igvcg_dst, cgvfx_dst, sst_igvcg_names, sst_cgvfx_names, 'incorrect_go')\n",
    "\n",
    "    cgvfx_dst = drop_cols(cgvfx_dst, ['run1', 'run2'])\n",
    "    cgvfx_dst.columns = [c.replace('all', 'all_' + 'correct_go') for c in cgvfx_dst.columns]\n",
    "\n",
    "    df = pd.concat([correct_stop, incorrect_stop, incorrect_go, cgvfx_dst], axis=1)\n",
    "    return df\n",
    "\n",
    "df = make_roi_dataset(params)"
   ]
  },
  {
   "cell_type": "code",
   "execution_count": null,
   "metadata": {},
   "outputs": [],
   "source": [
    "df"
   ]
  },
  {
   "cell_type": "code",
   "execution_count": null,
   "metadata": {},
   "outputs": [],
   "source": [
    "mri_qc = load_tabular(params['mri_qc_path'])\n",
    "mri_qc = mri_qc[mri_qc['imagincl']]"
   ]
  },
  {
   "cell_type": "code",
   "execution_count": null,
   "metadata": {},
   "outputs": [],
   "source": [
    "def filter_rois(roi_betas: pd.DataFrame, params: dict) -> pd.DataFrame:\n",
    "    \"\"\"Filter ROI dataset.\n",
    "\n",
    "    Args:\n",
    "        roi_betas (pd.DataFrame): ROI dataset.\n",
    "        params (dict): Dictionary with parameters.\n",
    "    \n",
    "    Returns:\n",
    "        pd.DataFrame: Filtered ROI dataset.\n",
    "    \"\"\"\n",
    "\n",
    "    filtered_behavioral = load_tabular(params['filtered_behavioral_path'])\n",
    "    mri_qc = load_tabular(params['mri_qc_path'])\n",
    "\n",
    "    roi_betas = roi_betas[roi_betas.index.isin(filtered_behavioral.index)]\n",
    "    roi_betas = roi_betas[roi_betas.index.isin(mri_qc.index)]\n",
    "\n",
    "    return roi_betas\n",
    "\n",
    "filter_rois(df, params)"
   ]
  }
 ],
 "metadata": {
  "kernelspec": {
   "display_name": "sst-rdex",
   "language": "python",
   "name": "python3"
  },
  "language_info": {
   "codemirror_mode": {
    "name": "ipython",
    "version": 3
   },
   "file_extension": ".py",
   "mimetype": "text/x-python",
   "name": "python",
   "nbconvert_exporter": "python",
   "pygments_lexer": "ipython3",
   "version": "3.10.16"
  }
 },
 "nbformat": 4,
 "nbformat_minor": 2
}
