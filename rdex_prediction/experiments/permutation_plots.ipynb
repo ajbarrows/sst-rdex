{
 "cells": [
  {
   "cell_type": "markdown",
   "id": "0",
   "metadata": {},
   "source": [
    "# RDEX-ABCD Brain-Behavior Model Permutation Plots"
   ]
  },
  {
   "cell_type": "code",
   "execution_count": null,
   "id": "1",
   "metadata": {},
   "outputs": [],
   "source": [
    "import pandas as pd\n",
    "import numpy as np\n",
    "\n",
    "import matplotlib.pyplot as plt\n",
    "import seaborn as sns\n",
    "\n",
    "import os\n",
    "import glob\n",
    "\n",
    "from abcd_tools.utils.ConfigLoader import load_yaml\n",
    "params = load_yaml('../parameters.yaml')"
   ]
  },
  {
   "cell_type": "code",
   "execution_count": null,
   "id": "2",
   "metadata": {},
   "outputs": [],
   "source": [
    "fpath = params['permutation_results_path']\n",
    "files = glob.glob(fpath + \"*\")\n",
    "\n",
    "target_map = params['target_map']"
   ]
  },
  {
   "cell_type": "code",
   "execution_count": null,
   "id": "3",
   "metadata": {},
   "outputs": [],
   "source": [
    "def load_null_model(fpath: str) -> pd.DataFrame:\n",
    "    target = fpath.split(\"_\")[-1].split('.')[0]\n",
    "    res = pd.read_pickle(fpath)\n",
    "\n",
    "    pval_r2 = res[0]['r2']\n",
    "    null_r2 = res[1]['r2']\n",
    "\n",
    "    return pd.DataFrame({\n",
    "        \"target\": target,\n",
    "        \"pval_r2\": pval_r2,\n",
    "        \"null_r2\": null_r2\n",
    "    })\n",
    "\n",
    "def load_permutations(files: list) -> pd.DataFrame:\n",
    "    permutations = pd.DataFrame()\n",
    "    \n",
    "    for file in files:\n",
    "\n",
    "        permutations = pd.concat([\n",
    "            permutations,\n",
    "            load_null_model(file)\n",
    "        ])\n",
    "    \n",
    "    target_rep = {\n",
    "        'mrt': 'correct_go_mrt',\n",
    "        'stdrt': 'correct_go_stdrt'\n",
    "    }\n",
    "    \n",
    "    return permutations.replace(target_rep)\n",
    "\n",
    "permutations = load_permutations(files)\n",
    "permutations"
   ]
  },
  {
   "cell_type": "code",
   "execution_count": null,
   "id": "4",
   "metadata": {},
   "outputs": [],
   "source": [
    "model_res_path = params['model_results_path'] + \"all_vertex_ridge_summary.csv\"\n",
    "model_res = pd.read_csv(model_res_path)\n",
    "\n",
    "model_values = (permutations\n",
    "    .merge(model_res, on='target')\n",
    "    .filter(items=['target', 'mean_scores_r2', 'std_scores_r2'])\n",
    "    .drop_duplicates()\n",
    "    \n",
    ")\n",
    "model_values"
   ]
  },
  {
   "cell_type": "code",
   "execution_count": null,
   "id": "5",
   "metadata": {},
   "outputs": [],
   "source": [
    "def make_permutation_plot(permutations: pd.DataFrame, model_res: pd.DataFrame, \n",
    "                        target_map: dict):\n",
    "\n",
    "    model_values = (permutations\n",
    "        .merge(model_res, on='target')\n",
    "        .filter(items=['target', 'mean_scores_r2', 'std_scores_r2'])\n",
    "        .drop_duplicates()\n",
    "        .replace(target_map)\n",
    "    )\n",
    "\n",
    "    g = sns.FacetGrid(data=permutations.replace(target_map), \n",
    "                        col='target', \n",
    "                        col_wrap=4, \n",
    "                        sharex=False\n",
    "                    )\n",
    "    g.map_dataframe(sns.histplot, x='null_r2')\n",
    "\n",
    "    for ax, pos in zip(g.axes.flat, model_values['mean_scores_r2']):\n",
    "        ax.axvline(x=pos, color='r', linestyle='dashed')\n",
    "\n",
    "    g.set_titles(\"{col_name}\")\n",
    "    g.set_xlabels(r\"Null $R^2$\")\n",
    "    g.set_ylabels(\"Permutations\")\n",
    "\n",
    "make_permutation_plot(permutations, model_res, target_map)\n",
    "plt.savefig(params['plot_output_path'] + \"permutation_plots.pdf\", bbox_inches='tight')"
   ]
  }
 ],
 "metadata": {
  "kernelspec": {
   "display_name": "sst-rdex",
   "language": "python",
   "name": "python3"
  },
  "language_info": {
   "codemirror_mode": {
    "name": "ipython",
    "version": 3
   },
   "file_extension": ".py",
   "mimetype": "text/x-python",
   "name": "python",
   "nbconvert_exporter": "python",
   "pygments_lexer": "ipython3",
   "version": "3.10.16"
  }
 },
 "nbformat": 4,
 "nbformat_minor": 5
}
