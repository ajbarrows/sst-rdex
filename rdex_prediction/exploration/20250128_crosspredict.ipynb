{
 "cells": [
  {
   "cell_type": "markdown",
   "metadata": {},
   "source": [
    "Follows from `rdex-prediction` models: is variance in empirically-derived SSRT explained by RDEX model parameters?"
   ]
  },
  {
   "cell_type": "code",
   "execution_count": null,
   "metadata": {},
   "outputs": [],
   "source": [
    "import pandas as pd\n",
    "\n",
    "import BPt as bp\n",
    "\n",
    "import matplotlib.pyplot as plt\n",
    "import seaborn as sns\n",
    "\n",
    "from sklearn.linear_model import ElasticNet\n",
    "\n",
    "from abcd_tools.utils.ConfigLoader import load_yaml\n",
    "from abcd_tools.utils.io import load_tabular\n"
   ]
  },
  {
   "cell_type": "code",
   "execution_count": null,
   "metadata": {},
   "outputs": [],
   "source": [
    "params = load_yaml(\"../parameters.yaml\")"
   ]
  },
  {
   "cell_type": "code",
   "execution_count": null,
   "metadata": {},
   "outputs": [],
   "source": [
    "behavioral = load_tabular(params[\"targets_path\"])\n",
    "behavioral = behavioral.drop(columns=[\"correct_go_mrt\", \"correct_go_stdrt\"]) # drop standard metrics"
   ]
  },
  {
   "cell_type": "markdown",
   "metadata": {},
   "source": [
    "Also drop model-derrived SSRT, as well as the match and mismatch accumulators as they're compositely defined in EEA."
   ]
  },
  {
   "cell_type": "code",
   "execution_count": null,
   "metadata": {},
   "outputs": [],
   "source": [
    "behavioral = behavioral.drop(columns=[\"SSRT\", \"vT\", \"vF\"])"
   ]
  },
  {
   "cell_type": "code",
   "execution_count": null,
   "metadata": {},
   "outputs": [],
   "source": [
    "# limit dataset to training subjects from rdex_prediction model\n",
    "rdex_predict_ds = pd.read_pickle(params[\"dataset_path\"])\n",
    "predict_train_idx = rdex_predict_ds.train_subjects\n",
    "\n",
    "behavioral = behavioral[behavioral.index.isin(predict_train_idx)]\n",
    "behavioral"
   ]
  },
  {
   "cell_type": "code",
   "execution_count": null,
   "metadata": {},
   "outputs": [],
   "source": [
    "target_columns = behavioral[['issrt']].columns\n",
    "ds = bp.Dataset(behavioral, targets=target_columns)\n",
    "ds"
   ]
  },
  {
   "cell_type": "code",
   "execution_count": null,
   "metadata": {},
   "outputs": [],
   "source": [
    "def define_crosspredict_pipeline(ds: bp.Dataset) -> bp.Pipeline:\n",
    "   \n",
    "    # Just scale float type features\n",
    "    scaler = bp.Scaler('robust', scope='float')\n",
    "    normalizer = bp.Scaler('normalize', scope='float')\n",
    "\n",
    "    # Define regression model\n",
    "    mod_obj=ElasticNet()\n",
    "    mod_params = {\n",
    "        'alpha': bp.p.Log(lower=1e-5, upper=1e5),\n",
    "        'l1_ratio': bp.p.Scalar(lower=0.001, upper=1).set_mutation(sigma=0.165)}\n",
    "    param_search = bp.ParamSearch('HammersleySearch', n_iter=100, cv='default')\n",
    "    model = bp.Model(\n",
    "        obj=mod_obj, \n",
    "        params=mod_params,  \n",
    "        param_search=param_search\n",
    "    )\n",
    "\n",
    "    # Then define full pipeline\n",
    "    pipe = bp.Pipeline([scaler, normalizer, model])\n",
    "\n",
    "    return pipe\n",
    "\n",
    "def fit_crosspredict_model(ds: bp.Dataset) -> bp.CompareDict:\n",
    "\n",
    "    pipe = define_crosspredict_pipeline(ds)\n",
    "    cv = bp.CV(splits=5, n_repeats=1)\n",
    "    ps = bp.ProblemSpec(n_jobs=8, random_state=42)\n",
    "\n",
    "\n",
    "    results = bp.evaluate(pipeline=pipe,\n",
    "                      dataset=ds,\n",
    "                      problem_spec=ps,\n",
    "                      mute_warnings=True,\n",
    "                      cv=cv)\n",
    "\n",
    "    return results\n",
    "\n",
    "results = fit_crosspredict_model(ds)\n",
    "results"
   ]
  },
  {
   "cell_type": "code",
   "execution_count": null,
   "metadata": {},
   "outputs": [],
   "source": [
    "def make_plot_df(results: bp.EvalResults, params: dict) -> pd.DataFrame:\n",
    "    fis = results.get_fis()\n",
    "    fis_long = fis.melt()\n",
    "    fis_long['process'] = fis_long['variable'].replace(params['process_map'])\n",
    "    fis_long['variable'] = fis_long['variable'].replace(params['target_map'])\n",
    "\n",
    "    fis_sorted = fis_long.groupby('variable').mean().sort_values('value').index\n",
    "    fis_long = fis_long.set_index('variable').loc[fis_sorted].reset_index()\n",
    "    return fis_long\n",
    "\n",
    "fis_long = make_plot_df(results, params)"
   ]
  },
  {
   "cell_type": "code",
   "execution_count": null,
   "metadata": {},
   "outputs": [],
   "source": [
    "def make_crosspredict_plot(fis_long: pd.DataFrame, params: dict, metrics: tuple) -> None:\n",
    "    sns.set_theme(style=\"whitegrid\")\n",
    "    palette = params['color_map']\n",
    "\n",
    "    title = f'Feature Importance Predicting Empirical SSRT\\nAvg. $R^2$: {metrics[0]:.2f} $\\pm$ {metrics[1]:.2f}'\n",
    "\n",
    "    fig, ax = plt.subplots()\n",
    "    sns.barplot(x='value', y='variable', hue='process', \n",
    "            data=fis_long, palette=palette, dodge=False, ax=ax)\n",
    "    ax.set_title(title)\n",
    "    ax.set_xlabel('Avg. Feature Importance')\n",
    "    ax.set_ylabel('')\n",
    "    ax.legend(title='')\n",
    "\n",
    "    plt.savefig(params['plot_output_path'] + 'crosspredict_feature_importance.png', dpi=300)\n",
    "    plt.show()\n",
    "\n",
    "metrics = (results.mean_scores['r2'], results.std_scores['r2'])\n",
    "\n",
    "make_crosspredict_plot(fis_long, params, metrics)"
   ]
  },
  {
   "cell_type": "code",
   "execution_count": null,
   "metadata": {},
   "outputs": [],
   "source": []
  }
 ],
 "metadata": {
  "kernelspec": {
   "display_name": "sst-rdex",
   "language": "python",
   "name": "python3"
  },
  "language_info": {
   "codemirror_mode": {
    "name": "ipython",
    "version": 3
   },
   "file_extension": ".py",
   "mimetype": "text/x-python",
   "name": "python",
   "nbconvert_exporter": "python",
   "pygments_lexer": "ipython3",
   "version": "3.10.11"
  }
 },
 "nbformat": 4,
 "nbformat_minor": 2
}
